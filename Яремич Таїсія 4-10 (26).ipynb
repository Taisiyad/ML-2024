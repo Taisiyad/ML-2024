{
  "cells": [
    {
      "cell_type": "code",
      "source": [],
      "outputs": [],
      "execution_count": null,
      "metadata": {
        "id": "qTNCwUaesGXm"
      }
    },
    {
      "cell_type": "markdown",
      "source": [
        "26.(1) Створіть одновимірний масив (вектор) з оберненими значеннями факторіалів\n",
        "натуральних чисел, починаючи з 1, та виведіть його значення."
      ],
      "metadata": {
        "id": "-R2fvzWVsOfY"
      }
    },
    {
      "cell_type": "code",
      "source": [
        "import numpy as np\n",
        "from math import factorial\n",
        "\n",
        "# Визначаємо кількість елементів у векторі\n",
        "n = 10  # Наприклад, перші 10 факторіалів\n",
        "\n",
        "# Створюємо масив з оберненими значеннями факторіалів\n",
        "vector = np.array([1/factorial(i) for i in range(1, n+1)])\n",
        "\n",
        "# Виводимо значення вектора\n",
        "print(vector)"
      ],
      "outputs": [
        {
          "output_type": "stream",
          "name": "stdout",
          "text": "[1.00000000e+00 5.00000000e-01 1.66666667e-01 4.16666667e-02\n 8.33333333e-03 1.38888889e-03 1.98412698e-04 2.48015873e-05\n 2.75573192e-06 2.75573192e-07]\n"
        }
      ],
      "execution_count": 1,
      "metadata": {
        "colab": {
          "base_uri": "https://localhost:8080/"
        },
        "id": "as-YYUsosgRU",
        "outputId": "25142bf1-3e59-4ded-e523-2ab34b87af03"
      }
    },
    {
      "cell_type": "markdown",
      "source": [
        "Висновок до завдання:\n",
        "У процесі виконання завдання ми створили одновимірний масив (вектор), що містить обернені значення факторіалів натуральних чисел, починаючи з 1. Для цього було використано мову програмування Python та бібліотеку NumPy, що дозволило ефективно обчислити факторіали та їхні обернені значення. Отриманий вектор демонструє експоненційне зменшення значень з кожним наступним числом, що відображає швидке зростання факторіалів. Цей підхід може бути корисним у різних математичних і статистичних задачах, де необхідно працювати з оберненими значеннями факторіалів."
      ],
      "metadata": {
        "id": "RrP9nTZXtBSx"
      }
    },
    {
      "cell_type": "markdown",
      "source": [
        "26.(2)Створіть двовимірний масив (матрицю) розміром 3x3, заповніть його квадратами \n",
        "факторіалів кожного числа, починаючи з 1, та виведіть його значення"
      ],
      "metadata": {
        "nteract": {
          "transient": {
            "deleting": false
          }
        }
      }
    },
    {
      "cell_type": "code",
      "source": [
        "import numpy as np\n",
        "from math import factorial\n",
        "\n",
        "# Створення масиву\n",
        "matrix = np.zeros((3, 3), dtype=np.int64)\n",
        "\n",
        "# Заповнення матриці квадратами факторіалів чисел\n",
        "for i in range(3):\n",
        "    for j in range(3):\n",
        "        number = 3 * i + j + 1  # обчислення числа для позиції [i, j]\n",
        "        matrix[i, j] = factorial(number) ** 2\n",
        "\n",
        "# Виведення матриці\n",
        "print(matrix)\n"
      ],
      "outputs": [
        {
          "output_type": "stream",
          "name": "stdout",
          "text": "[[           1            4           36]\n [         576        14400       518400]\n [    25401600   1625702400 131681894400]]\n"
        }
      ],
      "execution_count": 1,
      "metadata": {
        "jupyter": {
          "source_hidden": false,
          "outputs_hidden": false
        },
        "nteract": {
          "transient": {
            "deleting": false
          }
        }
      }
    },
    {
      "cell_type": "markdown",
      "source": [
        "Висновок:\n",
        "У цьому завданні ми створили двовимірний масив (матрицю) розміром 3x3, заповнений квадратами факторіалів натуральних чисел, починаючи з 1. Для цього ми використали мову програмування Python та бібліотеку NumPy.Отримана матриця продемонструвала значний ріст значень, що відображає експоненційне збільшення факторіалів чисел і відповідне зростання їх квадратів. Це завдання допомогло закріпити навички роботи з двовимірними масивами, а також продемонструвало основи лінійної алгебри в контексті факторіалів та їх властивостей."
      ],
      "metadata": {
        "nteract": {
          "transient": {
            "deleting": false
          }
        }
      }
    },
    {
      "cell_type": "markdown",
      "source": [
        "26.(3)Створіть масив розміром 3x3, заповніть його випадковими натуральними числами від \n",
        "1 до 10 та знайдіть мін елемент."
      ],
      "metadata": {
        "nteract": {
          "transient": {
            "deleting": false
          }
        }
      }
    },
    {
      "cell_type": "code",
      "source": [
        "import numpy as np\n",
        "\n",
        "# Створення масиву з випадковими числами від 1 до 10\n",
        "matrix = np.random.randint(1, 11, (3, 3))\n",
        "\n",
        "# Знаходження мінімального елемента\n",
        "min_element = np.min(matrix)\n",
        "\n",
        "# Виведення масиву та мінімального елемента\n",
        "print(\"Матриця:\")\n",
        "print(matrix)\n",
        "print(\"\\nМінімальний елемент:\", min_element)\n"
      ],
      "outputs": [
        {
          "output_type": "stream",
          "name": "stdout",
          "text": "Матриця:\n[[2 4 7]\n [9 6 9]\n [8 1 6]]\n\nМінімальний елемент: 1\n"
        }
      ],
      "execution_count": 2,
      "metadata": {
        "jupyter": {
          "source_hidden": false,
          "outputs_hidden": false
        },
        "nteract": {
          "transient": {
            "deleting": false
          }
        }
      }
    },
    {
      "cell_type": "markdown",
      "source": [
        "Висновок:\n",
        "У цьому завданні ми створили двовимірний масив (матрицю) розміром 3x3, заповнений випадковими натуральними числами в діапазоні від 1 до 10. Далі ми успішно знайшли мінімальний елемент у створеній матриці."
      ],
      "metadata": {
        "nteract": {
          "transient": {
            "deleting": false
          }
        }
      }
    },
    {
      "cell_type": "markdown",
      "source": [
        "26.(4)Створіть масив розміром 2x2, заповніть його випадковими дійсними числами від -1.2 \n",
        "до 1.2 та виведіть його значення."
      ],
      "metadata": {
        "nteract": {
          "transient": {
            "deleting": false
          }
        }
      }
    },
    {
      "cell_type": "code",
      "source": [
        "import numpy as np\n",
        "\n",
        "# Створення масиву 2x2 з випадковими дійсними числами від -1.2 до 1.2\n",
        "array = np.random.uniform(-1.2, 1.2, (2, 2))\n",
        "\n",
        "# Виведення значення масиву\n",
        "print(array)\n"
      ],
      "outputs": [
        {
          "output_type": "stream",
          "name": "stdout",
          "text": "[[-0.60491868 -0.91062514]\n [ 0.93098732  0.66159995]]\n"
        }
      ],
      "execution_count": 3,
      "metadata": {
        "jupyter": {
          "source_hidden": false,
          "outputs_hidden": false
        },
        "nteract": {
          "transient": {
            "deleting": false
          }
        }
      }
    },
    {
      "cell_type": "markdown",
      "source": [
        "Висновок: у цьому завданні ми створили двовимірний масив розміром 2x2 та заповнили його випадковими дійсними числами в діапазоні від -1.2 до 1.2. Для цього було використано функцію np.random.uniform, яка дозволяє генерувати випадкові числа в заданому діапазоні. Результат показує, що масив складається з дійсних чисел, які випадково розподілені в межах заданих значень. Цей підхід можна використовувати для ініціалізації масивів у задачах, де важливо мати випадкові числа в певному діапазоні."
      ],
      "metadata": {
        "nteract": {
          "transient": {
            "deleting": false
          }
        }
      }
    },
    {
      "cell_type": "markdown",
      "source": [
        "26.(5)Створіть два одновимірних масиви розміром 5, заповніть їх випадковими цілими  \n",
        "числами в діапазоні від 20 до 30 та виконайте на них поелементні операції додавання,  \n",
        "віднімання та множення."
      ],
      "metadata": {
        "nteract": {
          "transient": {
            "deleting": false
          }
        }
      }
    },
    {
      "cell_type": "code",
      "source": [
        "import numpy as np\n",
        "\n",
        "# Створюємо два одновимірних масиви розміром 5 з випадковими цілими числами від 20 до 30\n",
        "array1 = np.random.randint(20, 31, size=5)\n",
        "array2 = np.random.randint(20, 31, size=5)\n",
        "\n",
        "# Виводимо масиви\n",
        "print(\"Array 1:\", array1)\n",
        "print(\"Array 2:\", array2)\n",
        "\n",
        "# Виконуємо поелементні операції\n",
        "addition = array1 + array2\n",
        "subtraction = array1 - array2\n",
        "multiplication = array1 * array2\n",
        "\n",
        "# Виводимо результати\n",
        "print(\"Addition:\", addition)\n",
        "print(\"Subtraction:\", subtraction)\n",
        "print(\"Multiplication:\", multiplication)"
      ],
      "outputs": [
        {
          "output_type": "stream",
          "name": "stdout",
          "text": "Array 1: [30 25 29 27 22]\nArray 2: [21 21 24 25 30]\nAddition: [51 46 53 52 52]\nSubtraction: [ 9  4  5  2 -8]\nMultiplication: [630 525 696 675 660]\n"
        }
      ],
      "execution_count": 4,
      "metadata": {
        "jupyter": {
          "source_hidden": false,
          "outputs_hidden": false
        },
        "nteract": {
          "transient": {
            "deleting": false
          }
        }
      }
    },
    {
      "cell_type": "markdown",
      "source": [
        "Висновок:\n",
        "У рамках виконання завдання ми створили два одновимірних масиви, кожен з яких містить 5 випадкових цілих чисел в діапазоні від 20 до 30.В результаті виконання поелементних операцій додавання, віднімання та множення, ми отримали три нові масиви, які представляють результати цих операцій. Це показує, як можна використовувати NumPy для векторизованих обчислень, що значно спрощує роботу з даними в порівнянні з традиційними циклами в Python. "
      ],
      "metadata": {
        "nteract": {
          "transient": {
            "deleting": false
          }
        }
      }
    },
    {
      "cell_type": "markdown",
      "source": [
        "26.(6)Створіть дві матриці 4x4, заповніть їх довільними цілими числами від 10 до 100 та  \n",
        "знайдіть їх добуток."
      ],
      "metadata": {
        "nteract": {
          "transient": {
            "deleting": false
          }
        }
      }
    },
    {
      "cell_type": "code",
      "source": [
        "import numpy as np\n",
        "\n",
        "# Створюємо дві матриці 4x4 з випадковими цілими числами від 10 до 100\n",
        "matrix1 = np.random.randint(10, 101, size=(4, 4))\n",
        "matrix2 = np.random.randint(10, 101, size=(4, 4))\n",
        "\n",
        "# Виводимо матриці\n",
        "print(\"Matrix 1:\")\n",
        "print(matrix1)\n",
        "print(\"\\nMatrix 2:\")\n",
        "print(matrix2)\n",
        "\n",
        "# Обчислюємо добуток матриць\n",
        "product = np.dot(matrix1, matrix2)\n",
        "\n",
        "# Виводимо результат\n",
        "print(\"\\nProduct of Matrix 1 and Matrix 2:\")\n",
        "print(product)"
      ],
      "outputs": [
        {
          "output_type": "stream",
          "name": "stdout",
          "text": "Matrix 1:\n[[39 13 18 73]\n [66 54 44 53]\n [30 71 55 83]\n [31 34 23 35]]\n\nMatrix 2:\n[[75 71 86 85]\n [26 54 77 42]\n [38 75 98 86]\n [54 13 93 98]]\n\nProduct of Matrix 1 and Matrix 2:\n[[ 7889  5770 12908 12563]\n [10888 11591 19075 16856]\n [10668 11168 21156 18396]\n [ 5973  6217 10793  9471]]\n"
        }
      ],
      "execution_count": 5,
      "metadata": {
        "jupyter": {
          "source_hidden": false,
          "outputs_hidden": false
        },
        "nteract": {
          "transient": {
            "deleting": false
          }
        }
      }
    },
    {
      "cell_type": "markdown",
      "source": [
        "Висновок:\n",
        "У цьому завданні ми створили дві матриці розміром 4x4, заповнені випадковими цілими числами в діапазоні від 10 до 100.Використовуючи функцію np.random.randint, ми змогли генерувати випадкові числа для заповнення матриць. Потім, для обчислення добутку цих матриць, ми скористалися функцією np.dot, що реалізує матричне множення. "
      ],
      "metadata": {
        "nteract": {
          "transient": {
            "deleting": false
          }
        }
      }
    },
    {
      "cell_type": "markdown",
      "source": [
        "26.(7)Створіть дві матриці розміром 3x2 та 2x4, заповніть їх випадковими цілими числами  \n",
        "в діапазоні від 1 до 5 та перемножте їх між собою."
      ],
      "metadata": {
        "nteract": {
          "transient": {
            "deleting": false
          }
        }
      }
    },
    {
      "cell_type": "code",
      "source": [
        "import numpy as np\n",
        "\n",
        "# Створюємо матрицю A розміром 3x2 з випадковими цілими числами від 1 до 5\n",
        "matrix_A = np.random.randint(1, 6, size=(3, 2))\n",
        "\n",
        "# Створюємо матрицю B розміром 2x4 з випадковими цілими числами від 1 до 5\n",
        "matrix_B = np.random.randint(1, 6, size=(2, 4))\n",
        "\n",
        "# Виводимо матриці\n",
        "print(\"Matrix A (3x2):\")\n",
        "print(matrix_A)\n",
        "print(\"\\nMatrix B (2x4):\")\n",
        "print(matrix_B)\n",
        "\n",
        "# Обчислюємо добуток матриць A і B\n",
        "product = np.dot(matrix_A, matrix_B)\n",
        "\n",
        "# Виводимо результат\n",
        "print(\"\\nProduct of Matrix A and Matrix B:\")\n",
        "print(product)"
      ],
      "outputs": [
        {
          "output_type": "stream",
          "name": "stdout",
          "text": "Matrix A (3x2):\n[[3 1]\n [5 2]\n [5 5]]\n\nMatrix B (2x4):\n[[5 1 2 5]\n [2 5 2 3]]\n\nProduct of Matrix A and Matrix B:\n[[17  8  8 18]\n [29 15 14 31]\n [35 30 20 40]]\n"
        }
      ],
      "execution_count": 6,
      "metadata": {
        "jupyter": {
          "source_hidden": false,
          "outputs_hidden": false
        },
        "nteract": {
          "transient": {
            "deleting": false
          }
        }
      }
    },
    {
      "cell_type": "markdown",
      "source": [
        "Висновок:\n",
        "У данному завданні ми створили дві матриці: перша матриця розміром 3x2, а друга — 2x4, заповнені випадковими цілими числами в діапазоні від 1 до 5. Використовуючи функцію np.random.randint, ми змогли генерувати випадкові числа для заповнення матриць."
      ],
      "metadata": {
        "nteract": {
          "transient": {
            "deleting": false
          }
        }
      }
    },
    {
      "cell_type": "markdown",
      "source": [
        "26.(8)Створіть матрицю розміром 3x3, заповніть її випадковими цілими числами в діапазоні  \n",
        "від 1 до 12 та знайдіть її обернену матрицю."
      ],
      "metadata": {
        "nteract": {
          "transient": {
            "deleting": false
          }
        }
      }
    },
    {
      "cell_type": "code",
      "source": [
        "import numpy as np\n",
        "\n",
        "# Створюємо матрицю розміром 3x3 з випадковими цілими числами від 1 до 12\n",
        "matrix = np.random.randint(1, 13, size=(3, 3))\n",
        "\n",
        "# Виводимо початкову матрицю\n",
        "print(\"Original Matrix (3x3):\")\n",
        "print(matrix)\n",
        "\n",
        "# Перевіряємо, чи є матриця оберненою (перевірка на детермінант)\n",
        "determinant = np.linalg.det(matrix)\n",
        "\n",
        "if determinant != 0:\n",
        "    # Обчислюємо обернену матрицю\n",
        "    inverse_matrix = np.linalg.inv(matrix)\n",
        "    # Виводимо обернену матрицю\n",
        "    print(\"\\nInverse Matrix:\")\n",
        "    print(inverse_matrix)\n",
        "else:\n",
        "    print(\"\\nThe matrix is singular and does not have an inverse.\")"
      ],
      "outputs": [
        {
          "output_type": "stream",
          "name": "stdout",
          "text": "Original Matrix (3x3):\n[[ 9  9 11]\n [ 3  7  7]\n [ 4  5 12]]\n\nInverse Matrix:\n[[ 0.21681416 -0.23451327 -0.0619469 ]\n [-0.03539823  0.28318584 -0.13274336]\n [-0.05752212 -0.03982301  0.15929204]]\n"
        }
      ],
      "execution_count": 7,
      "metadata": {
        "jupyter": {
          "source_hidden": false,
          "outputs_hidden": false
        },
        "nteract": {
          "transient": {
            "deleting": false
          }
        }
      }
    },
    {
      "cell_type": "markdown",
      "source": [
        "Висновок: У цьому  завданні ми створили матрицю розміром 3x3, заповнену випадковими цілими числами в діапазоні від 1 до 12. Використовуючи функцію np.random.randint, ми змогли генерувати випадкові числа для заповнення матриці."
      ],
      "metadata": {
        "nteract": {
          "transient": {
            "deleting": false
          }
        }
      }
    },
    {
      "cell_type": "markdown",
      "source": [
        "26.(9)Створіть матрицю розміром 4x4, заповніть її випадковими цілими числами в діапазоні  \n",
        "від 0 до 1 та транспонуйте її."
      ],
      "metadata": {
        "nteract": {
          "transient": {
            "deleting": false
          }
        }
      }
    },
    {
      "cell_type": "code",
      "source": [
        "import numpy as np\n",
        "\n",
        "# Створюємо матрицю розміром 4x4 з випадковими цілими числами 0 або 1\n",
        "matrix = np.random.randint(0, 2, size=(4, 4))\n",
        "\n",
        "# Виводимо початкову матрицю\n",
        "print(\"Original Matrix (4x4):\")\n",
        "print(matrix)\n",
        "\n",
        "# Транспонуємо матрицю\n",
        "transposed_matrix = matrix.T\n",
        "\n",
        "# Виводимо транспоновану матрицю\n",
        "print(\"\\nTransposed Matrix:\")\n",
        "print(transposed_matrix)"
      ],
      "outputs": [
        {
          "output_type": "stream",
          "name": "stdout",
          "text": "Original Matrix (4x4):\n[[0 0 0 1]\n [0 1 1 1]\n [0 1 1 0]\n [1 0 1 1]]\n\nTransposed Matrix:\n[[0 0 0 1]\n [0 1 1 0]\n [0 1 1 1]\n [1 1 0 1]]\n"
        }
      ],
      "execution_count": 8,
      "metadata": {
        "jupyter": {
          "source_hidden": false,
          "outputs_hidden": false
        },
        "nteract": {
          "transient": {
            "deleting": false
          }
        }
      }
    },
    {
      "cell_type": "markdown",
      "source": [
        "26.(10)Створіть матрицю розміром 3x4 та вектор розміром 4x1, заповніть матрицю  \n",
        "випадковими цілими числами в діапазоні від 1 до 10, а вектор - випадковими дійсними  \n",
        "числами від 0 до 1, та знайдіть добуток матриці на вектор."
      ],
      "metadata": {
        "nteract": {
          "transient": {
            "deleting": false
          }
        }
      }
    },
    {
      "cell_type": "code",
      "source": [
        "import numpy as np\n",
        "\n",
        "# Створюємо матрицю розміром 3x4 з випадковими цілими числами від 1 до 10\n",
        "matrix = np.random.randint(1, 11, size=(3, 4))\n",
        "\n",
        "# Створюємо вектор розміром 4x1 з випадковими дійсними числами від 0 до 1\n",
        "vector = np.random.uniform(0, 1, size=(4, 1))\n",
        "\n",
        "# Виводимо матрицю і вектор\n",
        "print(\"Matrix (3x4):\")\n",
        "print(matrix)\n",
        "print(\"\\nVector (4x1):\")\n",
        "print(vector)\n",
        "\n",
        "# Обчислюємо добуток матриці на вектор\n",
        "product = np.dot(matrix, vector)\n",
        "\n",
        "# Виводимо результат\n",
        "print(\"\\nProduct of Matrix and Vector:\")\n",
        "print(product)"
      ],
      "outputs": [
        {
          "output_type": "stream",
          "name": "stdout",
          "text": "Matrix (3x4):\n[[9 2 3 3]\n [3 5 6 1]\n [3 5 3 1]]\n\nVector (4x1):\n[[0.60797877]\n [0.23081594]\n [0.93116481]\n [0.82457631]]\n\nProduct of Matrix and Vector:\n[[11.20066417]\n [ 9.3895812 ]\n [ 6.59608676]]\n"
        }
      ],
      "execution_count": 9,
      "metadata": {
        "jupyter": {
          "source_hidden": false,
          "outputs_hidden": false
        },
        "nteract": {
          "transient": {
            "deleting": false
          }
        }
      }
    },
    {
      "cell_type": "markdown",
      "source": [
        "26.(11)Створіть матрицю розміром 2x3 та вектор розміром 3x1, заповніть матрицю  \n",
        "випадковими дійсними числами від 0 до 1, а вектор - випадковими цілими числами в  \n",
        "діапазоні від 1 до 10, та знайдіть добуток матриці на вектор."
      ],
      "metadata": {
        "nteract": {
          "transient": {
            "deleting": false
          }
        }
      }
    },
    {
      "cell_type": "code",
      "source": [
        "import numpy as np\n",
        "\n",
        "# Створюємо матрицю розміром 2x3 з випадковими дійсними числами від 0 до 1\n",
        "matrix = np.random.uniform(0, 1, size=(2, 3))\n",
        "\n",
        "# Створюємо вектор розміром 3x1 з випадковими цілими числами від 1 до 10\n",
        "vector = np.random.randint(1, 11, size=(3, 1))\n",
        "\n",
        "# Виводимо матрицю і вектор\n",
        "print(\"Matrix (2x3):\")\n",
        "print(matrix)\n",
        "print(\"\\nVector (3x1):\")\n",
        "print(vector)\n",
        "\n",
        "# Обчислюємо добуток матриці на вектор\n",
        "product = np.dot(matrix, vector)\n",
        "\n",
        "# Виводимо результат\n",
        "print(\"\\nProduct of Matrix and Vector:\")\n",
        "print(product)"
      ],
      "outputs": [
        {
          "output_type": "stream",
          "name": "stdout",
          "text": "Matrix (2x3):\n[[0.39918459 0.92287145 0.76480498]\n [0.64649452 0.3221654  0.53410689]]\n\nVector (3x1):\n[[8]\n [2]\n [2]]\n\nProduct of Matrix and Vector:\n[[6.5688296 ]\n [6.88450075]]\n"
        }
      ],
      "execution_count": 10,
      "metadata": {
        "jupyter": {
          "source_hidden": false,
          "outputs_hidden": false
        },
        "nteract": {
          "transient": {
            "deleting": false
          }
        }
      }
    },
    {
      "cell_type": "markdown",
      "source": [
        "26.(12)Створіть дві матриці розміром 3x3, заповніть їх випадковими цілими числами в  \n",
        "діапазоні від 1 до 3та знайдіть добуток всіх елементів обох матриць."
      ],
      "metadata": {
        "nteract": {
          "transient": {
            "deleting": false
          }
        }
      }
    },
    {
      "cell_type": "code",
      "source": [
        "import numpy as np\n",
        "\n",
        "# Створюємо першу матрицю розміром 3x3 з випадковими цілими числами від 1 до 3\n",
        "matrix1 = np.random.randint(1, 4, size=(3, 3))\n",
        "\n",
        "# Створюємо другу матрицю розміром 3x3 з випадковими цілими числами від 1 до 3\n",
        "matrix2 = np.random.randint(1, 4, size=(3, 3))\n",
        "\n",
        "# Виводимо обидві матриці\n",
        "print(\"Matrix 1 (3x3):\")\n",
        "print(matrix1)\n",
        "print(\"\\nMatrix 2 (3x3):\")\n",
        "print(matrix2)\n",
        "\n",
        "# Обчислюємо добуток всіх елементів обох матриць\n",
        "product_matrix1 = np.prod(matrix1)\n",
        "product_matrix2 = np.prod(matrix2)\n",
        "\n",
        "# Виводимо результати\n",
        "print(\"\\nProduct of all elements in Matrix 1:\")\n",
        "print(product_matrix1)\n",
        "print(\"\\nProduct of all elements in Matrix 2:\")\n",
        "print(product_matrix2)\n",
        "\n",
        "# Обчислюємо загальний добуток обох матриць\n",
        "total_product = product_matrix1 * product_matrix2\n",
        "\n",
        "print(\"\\nTotal Product of all elements in both matrices:\")\n",
        "print(total_product)"
      ],
      "outputs": [
        {
          "output_type": "stream",
          "name": "stdout",
          "text": "Matrix 1 (3x3):\n[[2 2 2]\n [1 2 2]\n [3 3 3]]\n\nMatrix 2 (3x3):\n[[1 3 1]\n [1 1 3]\n [2 1 3]]\n\nProduct of all elements in Matrix 1:\n864\n\nProduct of all elements in Matrix 2:\n54\n\nTotal Product of all elements in both matrices:\n46656\n"
        }
      ],
      "execution_count": 11,
      "metadata": {
        "jupyter": {
          "source_hidden": false,
          "outputs_hidden": false
        },
        "nteract": {
          "transient": {
            "deleting": false
          }
        }
      }
    },
    {
      "cell_type": "markdown",
      "source": [
        "26.(13)Створіть дві матриці розміром 3x3, заповніть їх випадковими цілими числами в  \n",
        "діапазоні від -5 до 5 та знайдіть добуток їх елементів."
      ],
      "metadata": {
        "nteract": {
          "transient": {
            "deleting": false
          }
        }
      }
    },
    {
      "cell_type": "code",
      "source": [
        "import numpy as np\n",
        "\n",
        "# Створюємо першу матрицю розміром 3x3 з випадковими цілими числами від -5 до 5\n",
        "matrix1 = np.random.randint(-5, 6, size=(3, 3))\n",
        "\n",
        "# Створюємо другу матрицю розміром 3x3 з випадковими цілими числами від -5 до 5\n",
        "matrix2 = np.random.randint(-5, 6, size=(3, 3))\n",
        "\n",
        "# Виводимо обидві матриці\n",
        "print(\"Matrix 1 (3x3):\")\n",
        "print(matrix1)\n",
        "print(\"\\nMatrix 2 (3x3):\")\n",
        "print(matrix2)\n",
        "\n",
        "# Обчислюємо добуток всіх елементів обох матриць\n",
        "product_matrix1 = np.prod(matrix1)\n",
        "product_matrix2 = np.prod(matrix2)\n",
        "\n",
        "# Виводимо результати\n",
        "print(\"\\nProduct of all elements in Matrix 1:\")\n",
        "print(product_matrix1)\n",
        "print(\"\\nProduct of all elements in Matrix 2:\")\n",
        "print(product_matrix2)\n",
        "\n",
        "# Обчислюємо загальний добуток елементів обох матриць\n",
        "total_product = product_matrix1 * product_matrix2\n",
        "\n",
        "print(\"\\nTotal Product of all elements in both matrices:\")\n",
        "print(total_product)"
      ],
      "outputs": [
        {
          "output_type": "stream",
          "name": "stdout",
          "text": "Matrix 1 (3x3):\n[[-1  5  5]\n [ 3  3 -3]\n [ 3  0 -3]]\n\nMatrix 2 (3x3):\n[[ 0  1 -4]\n [ 2 -2 -4]\n [-3  4  1]]\n\nProduct of all elements in Matrix 1:\n0\n\nProduct of all elements in Matrix 2:\n0\n\nTotal Product of all elements in both matrices:\n0\n"
        }
      ],
      "execution_count": 12,
      "metadata": {
        "jupyter": {
          "source_hidden": false,
          "outputs_hidden": false
        },
        "nteract": {
          "transient": {
            "deleting": false
          }
        }
      }
    },
    {
      "cell_type": "markdown",
      "source": [
        "26.(14)Створіть матрицю розміром 3x3, заповніть її випадковими цілими числами в діапазоні  \n",
        "від 1 до 10 та знайдіть середнє значення елементів на головній діагоналі."
      ],
      "metadata": {
        "nteract": {
          "transient": {
            "deleting": false
          }
        }
      }
    },
    {
      "cell_type": "code",
      "source": [
        "import numpy as np\n",
        "\n",
        "# Створюємо матрицю розміром 3x3 з випадковими цілими числами від 1 до 10\n",
        "matrix = np.random.randint(1, 11, size=(3, 3))\n",
        "\n",
        "# Виводимо матрицю\n",
        "print(\"Matrix (3x3):\")\n",
        "print(matrix)\n",
        "\n",
        "# Отримуємо елементи на головній діагоналі\n",
        "diagonal_elements = np.diag(matrix)\n",
        "\n",
        "# Обчислюємо середнє значення елементів на головній діагоналі\n",
        "mean_diagonal = np.mean(diagonal_elements)\n",
        "\n",
        "# Виводимо результат\n",
        "print(\"\\nElements on the main diagonal:\")\n",
        "print(diagonal_elements)\n",
        "print(\"\\nMean value of the elements on the main diagonal:\")\n",
        "print(mean_diagonal)"
      ],
      "outputs": [
        {
          "output_type": "stream",
          "name": "stdout",
          "text": "Matrix (3x3):\n[[7 2 4]\n [6 5 2]\n [3 6 9]]\n\nElements on the main diagonal:\n[7 5 9]\n\nMean value of the elements on the main diagonal:\n7.0\n"
        }
      ],
      "execution_count": 13,
      "metadata": {
        "jupyter": {
          "source_hidden": false,
          "outputs_hidden": false
        },
        "nteract": {
          "transient": {
            "deleting": false
          }
        }
      }
    },
    {
      "cell_type": "markdown",
      "source": [
        "26.(15)Створіть матрицю розміром 3x3, заповніть її випадковими дійсними числами в  \n",
        "діапазоні від -1 до 1 та знайдіть вектор-стовпчик, що містить найменший елемент у  \n",
        "кожному стовпці матриці."
      ],
      "metadata": {
        "nteract": {
          "transient": {
            "deleting": false
          }
        }
      }
    },
    {
      "cell_type": "code",
      "source": [
        "import numpy as np\n",
        "\n",
        "# Створюємо матрицю розміром 3x3 з випадковими дійсними числами від -1 до 1\n",
        "matrix = np.random.uniform(-1, 1, size=(3, 3))\n",
        "\n",
        "# Виводимо матрицю\n",
        "print(\"Matrix (3x3):\")\n",
        "print(matrix)\n",
        "\n",
        "# Знаходимо найменший елемент у кожному стовпці\n",
        "min_elements = np.min(matrix, axis=0)\n",
        "\n",
        "# Перетворюємо вектор у вектор-стовпчик\n",
        "min_vector_column = min_elements.reshape(-1, 1)\n",
        "\n",
        "# Виводимо результати\n",
        "print(\"\\nMinimum elements in each column:\")\n",
        "print(min_elements)\n",
        "print(\"\\nColumn vector of minimum elements:\")\n",
        "print(min_vector_column)"
      ],
      "outputs": [
        {
          "output_type": "stream",
          "name": "stdout",
          "text": "Matrix (3x3):\n[[-0.81580538 -0.83736295 -0.64488646]\n [-0.08730343 -0.31825397  0.18491115]\n [ 0.1562069  -0.22701871  0.76867336]]\n\nMinimum elements in each column:\n[-0.81580538 -0.83736295 -0.64488646]\n\nColumn vector of minimum elements:\n[[-0.81580538]\n [-0.83736295]\n [-0.64488646]]\n"
        }
      ],
      "execution_count": 14,
      "metadata": {
        "jupyter": {
          "source_hidden": false,
          "outputs_hidden": false
        },
        "nteract": {
          "transient": {
            "deleting": false
          }
        }
      }
    },
    {
      "cell_type": "markdown",
      "source": [
        "Загальний висновок по роботі:У процесі виконання завдань було продемонстровано, як використовувати бібліотеку NumPy для створення та обробки матриць в Python.Протягом роботи було показано, як можна генерувати випадкові дані, а також отримувати з них статистичну інформацію, що може бути корисним у різних галузях, таких як машинне навчання, статистика, фінансовий аналіз тощо.Завдання демонструють, як можна змінювати розміри матриць та діапазони значень, що дозволяє адаптувати код під різні сценарії та потреби. "
      ],
      "metadata": {
        "nteract": {
          "transient": {
            "deleting": false
          }
        }
      }
    }
  ],
  "metadata": {
    "colab": {
      "provenance": []
    },
    "kernelspec": {
      "name": "python",
      "language": "python",
      "display_name": "Pyolite (preview)"
    },
    "language_info": {
      "codemirror_mode": {
        "name": "python",
        "version": 3
      },
      "file_extension": ".py",
      "mimetype": "text/x-python",
      "name": "python",
      "nbconvert_exporter": "python",
      "pygments_lexer": "ipython3",
      "version": "3.8"
    },
    "kernel_info": {
      "name": "python"
    },
    "nteract": {
      "version": "nteract-front-end@1.0.0"
    }
  },
  "nbformat": 4,
  "nbformat_minor": 0
}